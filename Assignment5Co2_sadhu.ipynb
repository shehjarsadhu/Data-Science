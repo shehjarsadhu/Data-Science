{
 "cells": [
  {
   "cell_type": "code",
   "execution_count": 30,
   "metadata": {
    "collapsed": true
   },
   "outputs": [],
   "source": [
    "import pandas as pd\n",
    "from sklearn import tree\n",
    "from treeviz import tree_print\n",
    "from sklearn.metrics import accuracy_score\n",
    "# grab cross validation code\n",
    "from sklearn.model_selection import cross_val_score\n",
    "# sklearn provides manipulation of training sets...here we do train/test split\n",
    "from sklearn.model_selection import train_test_split"
   ]
  },
  {
   "cell_type": "markdown",
   "metadata": {},
   "source": [
    "1. CO2 Data."
   ]
  },
  {
   "cell_type": "code",
   "execution_count": 31,
   "metadata": {},
   "outputs": [
    {
     "data": {
      "text/html": [
       "<div>\n",
       "<style>\n",
       "    .dataframe thead tr:only-child th {\n",
       "        text-align: right;\n",
       "    }\n",
       "\n",
       "    .dataframe thead th {\n",
       "        text-align: left;\n",
       "    }\n",
       "\n",
       "    .dataframe tbody tr th {\n",
       "        vertical-align: top;\n",
       "    }\n",
       "</style>\n",
       "<table border=\"1\" class=\"dataframe\">\n",
       "  <thead>\n",
       "    <tr style=\"text-align: right;\">\n",
       "      <th></th>\n",
       "      <th>Unnamed: 0</th>\n",
       "      <th>glasshouse</th>\n",
       "      <th>CO2level</th>\n",
       "      <th>day</th>\n",
       "      <th>light</th>\n",
       "      <th>CO2</th>\n",
       "      <th>tempDiff</th>\n",
       "      <th>BtempDiff</th>\n",
       "      <th>airTemp</th>\n",
       "      <th>vapPress</th>\n",
       "    </tr>\n",
       "  </thead>\n",
       "  <tbody>\n",
       "    <tr>\n",
       "      <th>0</th>\n",
       "      <td>1</td>\n",
       "      <td>A</td>\n",
       "      <td>high</td>\n",
       "      <td>0</td>\n",
       "      <td>1143.060000</td>\n",
       "      <td>127.112222</td>\n",
       "      <td>1.835037</td>\n",
       "      <td>1.496457</td>\n",
       "      <td>26.047167</td>\n",
       "      <td>2.563877</td>\n",
       "    </tr>\n",
       "    <tr>\n",
       "      <th>1</th>\n",
       "      <td>2</td>\n",
       "      <td>B</td>\n",
       "      <td>low</td>\n",
       "      <td>0</td>\n",
       "      <td>1143.060000</td>\n",
       "      <td>39.854833</td>\n",
       "      <td>1.542604</td>\n",
       "      <td>1.355216</td>\n",
       "      <td>24.102750</td>\n",
       "      <td>1.878973</td>\n",
       "    </tr>\n",
       "    <tr>\n",
       "      <th>2</th>\n",
       "      <td>3</td>\n",
       "      <td>C</td>\n",
       "      <td>medium</td>\n",
       "      <td>0</td>\n",
       "      <td>1143.060000</td>\n",
       "      <td>70.938111</td>\n",
       "      <td>1.962119</td>\n",
       "      <td>1.942780</td>\n",
       "      <td>26.711556</td>\n",
       "      <td>2.375940</td>\n",
       "    </tr>\n",
       "    <tr>\n",
       "      <th>3</th>\n",
       "      <td>4</td>\n",
       "      <td>A</td>\n",
       "      <td>high</td>\n",
       "      <td>1</td>\n",
       "      <td>465.810556</td>\n",
       "      <td>128.404444</td>\n",
       "      <td>0.928792</td>\n",
       "      <td>0.849522</td>\n",
       "      <td>25.135167</td>\n",
       "      <td>2.546759</td>\n",
       "    </tr>\n",
       "    <tr>\n",
       "      <th>4</th>\n",
       "      <td>5</td>\n",
       "      <td>B</td>\n",
       "      <td>low</td>\n",
       "      <td>1</td>\n",
       "      <td>465.810556</td>\n",
       "      <td>40.996556</td>\n",
       "      <td>0.680829</td>\n",
       "      <td>0.599220</td>\n",
       "      <td>24.899306</td>\n",
       "      <td>2.198131</td>\n",
       "    </tr>\n",
       "    <tr>\n",
       "      <th>5</th>\n",
       "      <td>6</td>\n",
       "      <td>C</td>\n",
       "      <td>medium</td>\n",
       "      <td>1</td>\n",
       "      <td>465.810556</td>\n",
       "      <td>71.267722</td>\n",
       "      <td>0.890424</td>\n",
       "      <td>0.825778</td>\n",
       "      <td>26.383694</td>\n",
       "      <td>2.724185</td>\n",
       "    </tr>\n",
       "    <tr>\n",
       "      <th>6</th>\n",
       "      <td>7</td>\n",
       "      <td>A</td>\n",
       "      <td>high</td>\n",
       "      <td>2</td>\n",
       "      <td>117.610083</td>\n",
       "      <td>112.608333</td>\n",
       "      <td>0.023537</td>\n",
       "      <td>-0.039120</td>\n",
       "      <td>26.478350</td>\n",
       "      <td>2.172891</td>\n",
       "    </tr>\n",
       "    <tr>\n",
       "      <th>7</th>\n",
       "      <td>8</td>\n",
       "      <td>C</td>\n",
       "      <td>medium</td>\n",
       "      <td>2</td>\n",
       "      <td>117.610083</td>\n",
       "      <td>71.037500</td>\n",
       "      <td>-0.062177</td>\n",
       "      <td>-0.110021</td>\n",
       "      <td>26.816917</td>\n",
       "      <td>2.206365</td>\n",
       "    </tr>\n",
       "    <tr>\n",
       "      <th>8</th>\n",
       "      <td>9</td>\n",
       "      <td>A</td>\n",
       "      <td>high</td>\n",
       "      <td>3</td>\n",
       "      <td>498.158889</td>\n",
       "      <td>114.272778</td>\n",
       "      <td>1.096492</td>\n",
       "      <td>1.251690</td>\n",
       "      <td>24.379583</td>\n",
       "      <td>1.644235</td>\n",
       "    </tr>\n",
       "    <tr>\n",
       "      <th>9</th>\n",
       "      <td>10</td>\n",
       "      <td>B</td>\n",
       "      <td>low</td>\n",
       "      <td>3</td>\n",
       "      <td>498.158889</td>\n",
       "      <td>32.255667</td>\n",
       "      <td>0.502876</td>\n",
       "      <td>0.233697</td>\n",
       "      <td>24.102194</td>\n",
       "      <td>1.750586</td>\n",
       "    </tr>\n",
       "    <tr>\n",
       "      <th>10</th>\n",
       "      <td>11</td>\n",
       "      <td>C</td>\n",
       "      <td>medium</td>\n",
       "      <td>3</td>\n",
       "      <td>498.158889</td>\n",
       "      <td>70.889667</td>\n",
       "      <td>0.646197</td>\n",
       "      <td>0.851787</td>\n",
       "      <td>25.780667</td>\n",
       "      <td>1.666778</td>\n",
       "    </tr>\n",
       "    <tr>\n",
       "      <th>11</th>\n",
       "      <td>12</td>\n",
       "      <td>A</td>\n",
       "      <td>high</td>\n",
       "      <td>4</td>\n",
       "      <td>723.320000</td>\n",
       "      <td>112.190000</td>\n",
       "      <td>1.272992</td>\n",
       "      <td>1.638483</td>\n",
       "      <td>24.576167</td>\n",
       "      <td>1.665640</td>\n",
       "    </tr>\n",
       "    <tr>\n",
       "      <th>12</th>\n",
       "      <td>13</td>\n",
       "      <td>B</td>\n",
       "      <td>low</td>\n",
       "      <td>4</td>\n",
       "      <td>723.320000</td>\n",
       "      <td>31.988667</td>\n",
       "      <td>0.653779</td>\n",
       "      <td>0.484934</td>\n",
       "      <td>23.991222</td>\n",
       "      <td>1.847540</td>\n",
       "    </tr>\n",
       "    <tr>\n",
       "      <th>13</th>\n",
       "      <td>14</td>\n",
       "      <td>C</td>\n",
       "      <td>medium</td>\n",
       "      <td>4</td>\n",
       "      <td>723.320000</td>\n",
       "      <td>70.422222</td>\n",
       "      <td>1.050380</td>\n",
       "      <td>1.317930</td>\n",
       "      <td>25.832472</td>\n",
       "      <td>1.674641</td>\n",
       "    </tr>\n",
       "    <tr>\n",
       "      <th>14</th>\n",
       "      <td>15</td>\n",
       "      <td>A</td>\n",
       "      <td>high</td>\n",
       "      <td>5</td>\n",
       "      <td>847.731111</td>\n",
       "      <td>123.253889</td>\n",
       "      <td>1.723561</td>\n",
       "      <td>1.992152</td>\n",
       "      <td>24.978833</td>\n",
       "      <td>1.813204</td>\n",
       "    </tr>\n",
       "    <tr>\n",
       "      <th>15</th>\n",
       "      <td>16</td>\n",
       "      <td>B</td>\n",
       "      <td>low</td>\n",
       "      <td>5</td>\n",
       "      <td>847.731111</td>\n",
       "      <td>32.167778</td>\n",
       "      <td>0.900343</td>\n",
       "      <td>0.982574</td>\n",
       "      <td>23.464500</td>\n",
       "      <td>1.694538</td>\n",
       "    </tr>\n",
       "    <tr>\n",
       "      <th>16</th>\n",
       "      <td>17</td>\n",
       "      <td>C</td>\n",
       "      <td>medium</td>\n",
       "      <td>5</td>\n",
       "      <td>847.731111</td>\n",
       "      <td>70.801944</td>\n",
       "      <td>1.076638</td>\n",
       "      <td>1.755507</td>\n",
       "      <td>25.821583</td>\n",
       "      <td>1.709209</td>\n",
       "    </tr>\n",
       "    <tr>\n",
       "      <th>17</th>\n",
       "      <td>18</td>\n",
       "      <td>A</td>\n",
       "      <td>high</td>\n",
       "      <td>6</td>\n",
       "      <td>828.896667</td>\n",
       "      <td>123.132222</td>\n",
       "      <td>1.603958</td>\n",
       "      <td>1.904277</td>\n",
       "      <td>25.806306</td>\n",
       "      <td>1.856588</td>\n",
       "    </tr>\n",
       "    <tr>\n",
       "      <th>18</th>\n",
       "      <td>19</td>\n",
       "      <td>B</td>\n",
       "      <td>low</td>\n",
       "      <td>6</td>\n",
       "      <td>828.896667</td>\n",
       "      <td>32.881667</td>\n",
       "      <td>0.752945</td>\n",
       "      <td>0.976392</td>\n",
       "      <td>24.257611</td>\n",
       "      <td>1.328174</td>\n",
       "    </tr>\n",
       "    <tr>\n",
       "      <th>19</th>\n",
       "      <td>20</td>\n",
       "      <td>C</td>\n",
       "      <td>medium</td>\n",
       "      <td>6</td>\n",
       "      <td>828.896667</td>\n",
       "      <td>71.054667</td>\n",
       "      <td>0.988386</td>\n",
       "      <td>1.490049</td>\n",
       "      <td>26.318333</td>\n",
       "      <td>1.803319</td>\n",
       "    </tr>\n",
       "    <tr>\n",
       "      <th>20</th>\n",
       "      <td>21</td>\n",
       "      <td>C</td>\n",
       "      <td>high</td>\n",
       "      <td>8</td>\n",
       "      <td>907.578889</td>\n",
       "      <td>108.657778</td>\n",
       "      <td>1.891797</td>\n",
       "      <td>2.420849</td>\n",
       "      <td>26.081472</td>\n",
       "      <td>1.578022</td>\n",
       "    </tr>\n",
       "    <tr>\n",
       "      <th>21</th>\n",
       "      <td>22</td>\n",
       "      <td>A</td>\n",
       "      <td>low</td>\n",
       "      <td>8</td>\n",
       "      <td>907.578889</td>\n",
       "      <td>33.149056</td>\n",
       "      <td>1.146467</td>\n",
       "      <td>1.478308</td>\n",
       "      <td>25.273361</td>\n",
       "      <td>2.071181</td>\n",
       "    </tr>\n",
       "    <tr>\n",
       "      <th>22</th>\n",
       "      <td>23</td>\n",
       "      <td>B</td>\n",
       "      <td>medium</td>\n",
       "      <td>8</td>\n",
       "      <td>907.578889</td>\n",
       "      <td>71.944444</td>\n",
       "      <td>1.618096</td>\n",
       "      <td>1.638417</td>\n",
       "      <td>23.982389</td>\n",
       "      <td>1.879023</td>\n",
       "    </tr>\n",
       "    <tr>\n",
       "      <th>23</th>\n",
       "      <td>24</td>\n",
       "      <td>C</td>\n",
       "      <td>high</td>\n",
       "      <td>9</td>\n",
       "      <td>1132.535556</td>\n",
       "      <td>121.948333</td>\n",
       "      <td>2.308753</td>\n",
       "      <td>3.203632</td>\n",
       "      <td>26.360500</td>\n",
       "      <td>1.945680</td>\n",
       "    </tr>\n",
       "    <tr>\n",
       "      <th>24</th>\n",
       "      <td>25</td>\n",
       "      <td>A</td>\n",
       "      <td>low</td>\n",
       "      <td>9</td>\n",
       "      <td>1132.535556</td>\n",
       "      <td>33.864556</td>\n",
       "      <td>1.504528</td>\n",
       "      <td>2.160558</td>\n",
       "      <td>25.474111</td>\n",
       "      <td>2.095965</td>\n",
       "    </tr>\n",
       "    <tr>\n",
       "      <th>25</th>\n",
       "      <td>26</td>\n",
       "      <td>B</td>\n",
       "      <td>medium</td>\n",
       "      <td>9</td>\n",
       "      <td>1132.535556</td>\n",
       "      <td>72.285556</td>\n",
       "      <td>2.181206</td>\n",
       "      <td>2.111607</td>\n",
       "      <td>23.740500</td>\n",
       "      <td>1.748245</td>\n",
       "    </tr>\n",
       "    <tr>\n",
       "      <th>26</th>\n",
       "      <td>27</td>\n",
       "      <td>C</td>\n",
       "      <td>high</td>\n",
       "      <td>10</td>\n",
       "      <td>1010.909444</td>\n",
       "      <td>121.424444</td>\n",
       "      <td>2.006724</td>\n",
       "      <td>2.735993</td>\n",
       "      <td>26.465972</td>\n",
       "      <td>1.383257</td>\n",
       "    </tr>\n",
       "    <tr>\n",
       "      <th>27</th>\n",
       "      <td>28</td>\n",
       "      <td>A</td>\n",
       "      <td>low</td>\n",
       "      <td>10</td>\n",
       "      <td>1010.909444</td>\n",
       "      <td>31.913833</td>\n",
       "      <td>0.819447</td>\n",
       "      <td>1.338734</td>\n",
       "      <td>26.208267</td>\n",
       "      <td>2.169844</td>\n",
       "    </tr>\n",
       "    <tr>\n",
       "      <th>28</th>\n",
       "      <td>29</td>\n",
       "      <td>B</td>\n",
       "      <td>medium</td>\n",
       "      <td>10</td>\n",
       "      <td>1010.909444</td>\n",
       "      <td>71.822222</td>\n",
       "      <td>1.895584</td>\n",
       "      <td>1.943019</td>\n",
       "      <td>23.920278</td>\n",
       "      <td>1.901677</td>\n",
       "    </tr>\n",
       "    <tr>\n",
       "      <th>29</th>\n",
       "      <td>30</td>\n",
       "      <td>C</td>\n",
       "      <td>high</td>\n",
       "      <td>11</td>\n",
       "      <td>1070.558889</td>\n",
       "      <td>122.057222</td>\n",
       "      <td>2.338868</td>\n",
       "      <td>3.215152</td>\n",
       "      <td>26.533694</td>\n",
       "      <td>1.657041</td>\n",
       "    </tr>\n",
       "    <tr>\n",
       "      <th>...</th>\n",
       "      <td>...</td>\n",
       "      <td>...</td>\n",
       "      <td>...</td>\n",
       "      <td>...</td>\n",
       "      <td>...</td>\n",
       "      <td>...</td>\n",
       "      <td>...</td>\n",
       "      <td>...</td>\n",
       "      <td>...</td>\n",
       "      <td>...</td>\n",
       "    </tr>\n",
       "    <tr>\n",
       "      <th>32</th>\n",
       "      <td>33</td>\n",
       "      <td>C</td>\n",
       "      <td>high</td>\n",
       "      <td>12</td>\n",
       "      <td>730.340000</td>\n",
       "      <td>122.036111</td>\n",
       "      <td>1.713936</td>\n",
       "      <td>2.242592</td>\n",
       "      <td>26.167000</td>\n",
       "      <td>2.159385</td>\n",
       "    </tr>\n",
       "    <tr>\n",
       "      <th>33</th>\n",
       "      <td>34</td>\n",
       "      <td>A</td>\n",
       "      <td>low</td>\n",
       "      <td>12</td>\n",
       "      <td>730.340000</td>\n",
       "      <td>31.588222</td>\n",
       "      <td>0.603571</td>\n",
       "      <td>0.749724</td>\n",
       "      <td>25.790250</td>\n",
       "      <td>2.256532</td>\n",
       "    </tr>\n",
       "    <tr>\n",
       "      <th>34</th>\n",
       "      <td>35</td>\n",
       "      <td>B</td>\n",
       "      <td>medium</td>\n",
       "      <td>12</td>\n",
       "      <td>730.340000</td>\n",
       "      <td>71.828889</td>\n",
       "      <td>1.416978</td>\n",
       "      <td>1.605301</td>\n",
       "      <td>23.996667</td>\n",
       "      <td>1.932347</td>\n",
       "    </tr>\n",
       "    <tr>\n",
       "      <th>35</th>\n",
       "      <td>36</td>\n",
       "      <td>C</td>\n",
       "      <td>high</td>\n",
       "      <td>13</td>\n",
       "      <td>606.113889</td>\n",
       "      <td>122.398333</td>\n",
       "      <td>1.260595</td>\n",
       "      <td>1.618854</td>\n",
       "      <td>26.422361</td>\n",
       "      <td>2.188003</td>\n",
       "    </tr>\n",
       "    <tr>\n",
       "      <th>36</th>\n",
       "      <td>37</td>\n",
       "      <td>A</td>\n",
       "      <td>low</td>\n",
       "      <td>13</td>\n",
       "      <td>606.113889</td>\n",
       "      <td>35.776722</td>\n",
       "      <td>0.483770</td>\n",
       "      <td>0.749552</td>\n",
       "      <td>26.032028</td>\n",
       "      <td>2.380094</td>\n",
       "    </tr>\n",
       "    <tr>\n",
       "      <th>37</th>\n",
       "      <td>38</td>\n",
       "      <td>B</td>\n",
       "      <td>medium</td>\n",
       "      <td>13</td>\n",
       "      <td>606.113889</td>\n",
       "      <td>72.429111</td>\n",
       "      <td>1.032447</td>\n",
       "      <td>1.112106</td>\n",
       "      <td>25.235861</td>\n",
       "      <td>2.446107</td>\n",
       "    </tr>\n",
       "    <tr>\n",
       "      <th>38</th>\n",
       "      <td>39</td>\n",
       "      <td>C</td>\n",
       "      <td>high</td>\n",
       "      <td>14</td>\n",
       "      <td>692.985000</td>\n",
       "      <td>111.953333</td>\n",
       "      <td>1.965690</td>\n",
       "      <td>2.466950</td>\n",
       "      <td>25.557917</td>\n",
       "      <td>2.292986</td>\n",
       "    </tr>\n",
       "    <tr>\n",
       "      <th>39</th>\n",
       "      <td>40</td>\n",
       "      <td>A</td>\n",
       "      <td>low</td>\n",
       "      <td>14</td>\n",
       "      <td>692.985000</td>\n",
       "      <td>34.651833</td>\n",
       "      <td>1.892917</td>\n",
       "      <td>1.923541</td>\n",
       "      <td>24.622500</td>\n",
       "      <td>1.930999</td>\n",
       "    </tr>\n",
       "    <tr>\n",
       "      <th>40</th>\n",
       "      <td>41</td>\n",
       "      <td>B</td>\n",
       "      <td>medium</td>\n",
       "      <td>14</td>\n",
       "      <td>692.985000</td>\n",
       "      <td>71.680667</td>\n",
       "      <td>2.103396</td>\n",
       "      <td>2.341252</td>\n",
       "      <td>21.614750</td>\n",
       "      <td>1.723849</td>\n",
       "    </tr>\n",
       "    <tr>\n",
       "      <th>41</th>\n",
       "      <td>42</td>\n",
       "      <td>B</td>\n",
       "      <td>high</td>\n",
       "      <td>15</td>\n",
       "      <td>697.113889</td>\n",
       "      <td>121.244444</td>\n",
       "      <td>1.727592</td>\n",
       "      <td>1.594480</td>\n",
       "      <td>26.231056</td>\n",
       "      <td>2.322679</td>\n",
       "    </tr>\n",
       "    <tr>\n",
       "      <th>42</th>\n",
       "      <td>43</td>\n",
       "      <td>C</td>\n",
       "      <td>low</td>\n",
       "      <td>15</td>\n",
       "      <td>697.113889</td>\n",
       "      <td>40.816889</td>\n",
       "      <td>1.723662</td>\n",
       "      <td>1.507894</td>\n",
       "      <td>26.448352</td>\n",
       "      <td>2.599388</td>\n",
       "    </tr>\n",
       "    <tr>\n",
       "      <th>43</th>\n",
       "      <td>44</td>\n",
       "      <td>A</td>\n",
       "      <td>medium</td>\n",
       "      <td>15</td>\n",
       "      <td>697.113889</td>\n",
       "      <td>63.200333</td>\n",
       "      <td>1.024977</td>\n",
       "      <td>1.291712</td>\n",
       "      <td>25.971917</td>\n",
       "      <td>2.492911</td>\n",
       "    </tr>\n",
       "    <tr>\n",
       "      <th>44</th>\n",
       "      <td>45</td>\n",
       "      <td>B</td>\n",
       "      <td>high</td>\n",
       "      <td>16</td>\n",
       "      <td>165.826389</td>\n",
       "      <td>119.809444</td>\n",
       "      <td>0.128693</td>\n",
       "      <td>-0.000971</td>\n",
       "      <td>27.857361</td>\n",
       "      <td>2.703154</td>\n",
       "    </tr>\n",
       "    <tr>\n",
       "      <th>45</th>\n",
       "      <td>46</td>\n",
       "      <td>C</td>\n",
       "      <td>low</td>\n",
       "      <td>16</td>\n",
       "      <td>165.826389</td>\n",
       "      <td>41.313111</td>\n",
       "      <td>0.009471</td>\n",
       "      <td>-0.002753</td>\n",
       "      <td>26.979093</td>\n",
       "      <td>2.481100</td>\n",
       "    </tr>\n",
       "    <tr>\n",
       "      <th>46</th>\n",
       "      <td>47</td>\n",
       "      <td>A</td>\n",
       "      <td>medium</td>\n",
       "      <td>16</td>\n",
       "      <td>165.826389</td>\n",
       "      <td>67.687556</td>\n",
       "      <td>0.059629</td>\n",
       "      <td>0.107624</td>\n",
       "      <td>26.313167</td>\n",
       "      <td>2.454949</td>\n",
       "    </tr>\n",
       "    <tr>\n",
       "      <th>47</th>\n",
       "      <td>48</td>\n",
       "      <td>B</td>\n",
       "      <td>high</td>\n",
       "      <td>17</td>\n",
       "      <td>977.900556</td>\n",
       "      <td>121.669444</td>\n",
       "      <td>1.721966</td>\n",
       "      <td>2.852449</td>\n",
       "      <td>25.454972</td>\n",
       "      <td>2.047341</td>\n",
       "    </tr>\n",
       "    <tr>\n",
       "      <th>48</th>\n",
       "      <td>49</td>\n",
       "      <td>C</td>\n",
       "      <td>low</td>\n",
       "      <td>17</td>\n",
       "      <td>977.900556</td>\n",
       "      <td>33.698611</td>\n",
       "      <td>1.286871</td>\n",
       "      <td>1.257595</td>\n",
       "      <td>26.325204</td>\n",
       "      <td>2.174457</td>\n",
       "    </tr>\n",
       "    <tr>\n",
       "      <th>49</th>\n",
       "      <td>50</td>\n",
       "      <td>A</td>\n",
       "      <td>medium</td>\n",
       "      <td>17</td>\n",
       "      <td>977.900556</td>\n",
       "      <td>64.436278</td>\n",
       "      <td>1.183705</td>\n",
       "      <td>1.873111</td>\n",
       "      <td>25.838333</td>\n",
       "      <td>1.859968</td>\n",
       "    </tr>\n",
       "    <tr>\n",
       "      <th>50</th>\n",
       "      <td>51</td>\n",
       "      <td>B</td>\n",
       "      <td>high</td>\n",
       "      <td>18</td>\n",
       "      <td>274.783333</td>\n",
       "      <td>121.663889</td>\n",
       "      <td>0.444533</td>\n",
       "      <td>0.494447</td>\n",
       "      <td>27.130556</td>\n",
       "      <td>2.558188</td>\n",
       "    </tr>\n",
       "    <tr>\n",
       "      <th>51</th>\n",
       "      <td>52</td>\n",
       "      <td>C</td>\n",
       "      <td>low</td>\n",
       "      <td>18</td>\n",
       "      <td>274.783333</td>\n",
       "      <td>33.125167</td>\n",
       "      <td>0.189315</td>\n",
       "      <td>0.104627</td>\n",
       "      <td>26.493130</td>\n",
       "      <td>2.379557</td>\n",
       "    </tr>\n",
       "    <tr>\n",
       "      <th>52</th>\n",
       "      <td>53</td>\n",
       "      <td>A</td>\n",
       "      <td>medium</td>\n",
       "      <td>18</td>\n",
       "      <td>274.783333</td>\n",
       "      <td>64.021389</td>\n",
       "      <td>0.349650</td>\n",
       "      <td>0.436306</td>\n",
       "      <td>25.538306</td>\n",
       "      <td>2.388829</td>\n",
       "    </tr>\n",
       "    <tr>\n",
       "      <th>53</th>\n",
       "      <td>54</td>\n",
       "      <td>B</td>\n",
       "      <td>high</td>\n",
       "      <td>19</td>\n",
       "      <td>843.156667</td>\n",
       "      <td>121.707222</td>\n",
       "      <td>1.469365</td>\n",
       "      <td>2.094271</td>\n",
       "      <td>25.684028</td>\n",
       "      <td>1.802966</td>\n",
       "    </tr>\n",
       "    <tr>\n",
       "      <th>54</th>\n",
       "      <td>55</td>\n",
       "      <td>C</td>\n",
       "      <td>low</td>\n",
       "      <td>19</td>\n",
       "      <td>843.156667</td>\n",
       "      <td>32.515667</td>\n",
       "      <td>0.668391</td>\n",
       "      <td>0.723373</td>\n",
       "      <td>26.302796</td>\n",
       "      <td>1.936819</td>\n",
       "    </tr>\n",
       "    <tr>\n",
       "      <th>55</th>\n",
       "      <td>56</td>\n",
       "      <td>A</td>\n",
       "      <td>medium</td>\n",
       "      <td>19</td>\n",
       "      <td>843.156667</td>\n",
       "      <td>72.809444</td>\n",
       "      <td>0.908202</td>\n",
       "      <td>1.312680</td>\n",
       "      <td>26.447972</td>\n",
       "      <td>1.432334</td>\n",
       "    </tr>\n",
       "    <tr>\n",
       "      <th>56</th>\n",
       "      <td>57</td>\n",
       "      <td>B</td>\n",
       "      <td>high</td>\n",
       "      <td>20</td>\n",
       "      <td>564.044444</td>\n",
       "      <td>121.511667</td>\n",
       "      <td>1.004932</td>\n",
       "      <td>1.198197</td>\n",
       "      <td>26.387667</td>\n",
       "      <td>1.817722</td>\n",
       "    </tr>\n",
       "    <tr>\n",
       "      <th>57</th>\n",
       "      <td>58</td>\n",
       "      <td>C</td>\n",
       "      <td>low</td>\n",
       "      <td>20</td>\n",
       "      <td>564.044444</td>\n",
       "      <td>34.034278</td>\n",
       "      <td>0.122529</td>\n",
       "      <td>0.231627</td>\n",
       "      <td>26.544426</td>\n",
       "      <td>1.777160</td>\n",
       "    </tr>\n",
       "    <tr>\n",
       "      <th>58</th>\n",
       "      <td>59</td>\n",
       "      <td>A</td>\n",
       "      <td>medium</td>\n",
       "      <td>20</td>\n",
       "      <td>564.044444</td>\n",
       "      <td>72.701667</td>\n",
       "      <td>0.855557</td>\n",
       "      <td>0.887388</td>\n",
       "      <td>25.202417</td>\n",
       "      <td>1.463848</td>\n",
       "    </tr>\n",
       "    <tr>\n",
       "      <th>59</th>\n",
       "      <td>60</td>\n",
       "      <td>B</td>\n",
       "      <td>high</td>\n",
       "      <td>21</td>\n",
       "      <td>874.895000</td>\n",
       "      <td>120.905556</td>\n",
       "      <td>1.582284</td>\n",
       "      <td>1.935055</td>\n",
       "      <td>26.014889</td>\n",
       "      <td>2.027768</td>\n",
       "    </tr>\n",
       "    <tr>\n",
       "      <th>60</th>\n",
       "      <td>61</td>\n",
       "      <td>C</td>\n",
       "      <td>low</td>\n",
       "      <td>21</td>\n",
       "      <td>874.895000</td>\n",
       "      <td>33.323222</td>\n",
       "      <td>0.264572</td>\n",
       "      <td>0.670589</td>\n",
       "      <td>26.498519</td>\n",
       "      <td>2.101621</td>\n",
       "    </tr>\n",
       "    <tr>\n",
       "      <th>61</th>\n",
       "      <td>62</td>\n",
       "      <td>A</td>\n",
       "      <td>medium</td>\n",
       "      <td>21</td>\n",
       "      <td>874.895000</td>\n",
       "      <td>72.433556</td>\n",
       "      <td>1.002129</td>\n",
       "      <td>1.101851</td>\n",
       "      <td>26.194278</td>\n",
       "      <td>2.109548</td>\n",
       "    </tr>\n",
       "  </tbody>\n",
       "</table>\n",
       "<p>62 rows × 10 columns</p>\n",
       "</div>"
      ],
      "text/plain": [
       "    Unnamed: 0 glasshouse CO2level  day        light         CO2  tempDiff  \\\n",
       "0            1          A     high    0  1143.060000  127.112222  1.835037   \n",
       "1            2          B      low    0  1143.060000   39.854833  1.542604   \n",
       "2            3          C   medium    0  1143.060000   70.938111  1.962119   \n",
       "3            4          A     high    1   465.810556  128.404444  0.928792   \n",
       "4            5          B      low    1   465.810556   40.996556  0.680829   \n",
       "5            6          C   medium    1   465.810556   71.267722  0.890424   \n",
       "6            7          A     high    2   117.610083  112.608333  0.023537   \n",
       "7            8          C   medium    2   117.610083   71.037500 -0.062177   \n",
       "8            9          A     high    3   498.158889  114.272778  1.096492   \n",
       "9           10          B      low    3   498.158889   32.255667  0.502876   \n",
       "10          11          C   medium    3   498.158889   70.889667  0.646197   \n",
       "11          12          A     high    4   723.320000  112.190000  1.272992   \n",
       "12          13          B      low    4   723.320000   31.988667  0.653779   \n",
       "13          14          C   medium    4   723.320000   70.422222  1.050380   \n",
       "14          15          A     high    5   847.731111  123.253889  1.723561   \n",
       "15          16          B      low    5   847.731111   32.167778  0.900343   \n",
       "16          17          C   medium    5   847.731111   70.801944  1.076638   \n",
       "17          18          A     high    6   828.896667  123.132222  1.603958   \n",
       "18          19          B      low    6   828.896667   32.881667  0.752945   \n",
       "19          20          C   medium    6   828.896667   71.054667  0.988386   \n",
       "20          21          C     high    8   907.578889  108.657778  1.891797   \n",
       "21          22          A      low    8   907.578889   33.149056  1.146467   \n",
       "22          23          B   medium    8   907.578889   71.944444  1.618096   \n",
       "23          24          C     high    9  1132.535556  121.948333  2.308753   \n",
       "24          25          A      low    9  1132.535556   33.864556  1.504528   \n",
       "25          26          B   medium    9  1132.535556   72.285556  2.181206   \n",
       "26          27          C     high   10  1010.909444  121.424444  2.006724   \n",
       "27          28          A      low   10  1010.909444   31.913833  0.819447   \n",
       "28          29          B   medium   10  1010.909444   71.822222  1.895584   \n",
       "29          30          C     high   11  1070.558889  122.057222  2.338868   \n",
       "..         ...        ...      ...  ...          ...         ...       ...   \n",
       "32          33          C     high   12   730.340000  122.036111  1.713936   \n",
       "33          34          A      low   12   730.340000   31.588222  0.603571   \n",
       "34          35          B   medium   12   730.340000   71.828889  1.416978   \n",
       "35          36          C     high   13   606.113889  122.398333  1.260595   \n",
       "36          37          A      low   13   606.113889   35.776722  0.483770   \n",
       "37          38          B   medium   13   606.113889   72.429111  1.032447   \n",
       "38          39          C     high   14   692.985000  111.953333  1.965690   \n",
       "39          40          A      low   14   692.985000   34.651833  1.892917   \n",
       "40          41          B   medium   14   692.985000   71.680667  2.103396   \n",
       "41          42          B     high   15   697.113889  121.244444  1.727592   \n",
       "42          43          C      low   15   697.113889   40.816889  1.723662   \n",
       "43          44          A   medium   15   697.113889   63.200333  1.024977   \n",
       "44          45          B     high   16   165.826389  119.809444  0.128693   \n",
       "45          46          C      low   16   165.826389   41.313111  0.009471   \n",
       "46          47          A   medium   16   165.826389   67.687556  0.059629   \n",
       "47          48          B     high   17   977.900556  121.669444  1.721966   \n",
       "48          49          C      low   17   977.900556   33.698611  1.286871   \n",
       "49          50          A   medium   17   977.900556   64.436278  1.183705   \n",
       "50          51          B     high   18   274.783333  121.663889  0.444533   \n",
       "51          52          C      low   18   274.783333   33.125167  0.189315   \n",
       "52          53          A   medium   18   274.783333   64.021389  0.349650   \n",
       "53          54          B     high   19   843.156667  121.707222  1.469365   \n",
       "54          55          C      low   19   843.156667   32.515667  0.668391   \n",
       "55          56          A   medium   19   843.156667   72.809444  0.908202   \n",
       "56          57          B     high   20   564.044444  121.511667  1.004932   \n",
       "57          58          C      low   20   564.044444   34.034278  0.122529   \n",
       "58          59          A   medium   20   564.044444   72.701667  0.855557   \n",
       "59          60          B     high   21   874.895000  120.905556  1.582284   \n",
       "60          61          C      low   21   874.895000   33.323222  0.264572   \n",
       "61          62          A   medium   21   874.895000   72.433556  1.002129   \n",
       "\n",
       "    BtempDiff    airTemp  vapPress  \n",
       "0    1.496457  26.047167  2.563877  \n",
       "1    1.355216  24.102750  1.878973  \n",
       "2    1.942780  26.711556  2.375940  \n",
       "3    0.849522  25.135167  2.546759  \n",
       "4    0.599220  24.899306  2.198131  \n",
       "5    0.825778  26.383694  2.724185  \n",
       "6   -0.039120  26.478350  2.172891  \n",
       "7   -0.110021  26.816917  2.206365  \n",
       "8    1.251690  24.379583  1.644235  \n",
       "9    0.233697  24.102194  1.750586  \n",
       "10   0.851787  25.780667  1.666778  \n",
       "11   1.638483  24.576167  1.665640  \n",
       "12   0.484934  23.991222  1.847540  \n",
       "13   1.317930  25.832472  1.674641  \n",
       "14   1.992152  24.978833  1.813204  \n",
       "15   0.982574  23.464500  1.694538  \n",
       "16   1.755507  25.821583  1.709209  \n",
       "17   1.904277  25.806306  1.856588  \n",
       "18   0.976392  24.257611  1.328174  \n",
       "19   1.490049  26.318333  1.803319  \n",
       "20   2.420849  26.081472  1.578022  \n",
       "21   1.478308  25.273361  2.071181  \n",
       "22   1.638417  23.982389  1.879023  \n",
       "23   3.203632  26.360500  1.945680  \n",
       "24   2.160558  25.474111  2.095965  \n",
       "25   2.111607  23.740500  1.748245  \n",
       "26   2.735993  26.465972  1.383257  \n",
       "27   1.338734  26.208267  2.169844  \n",
       "28   1.943019  23.920278  1.901677  \n",
       "29   3.215152  26.533694  1.657041  \n",
       "..        ...        ...       ...  \n",
       "32   2.242592  26.167000  2.159385  \n",
       "33   0.749724  25.790250  2.256532  \n",
       "34   1.605301  23.996667  1.932347  \n",
       "35   1.618854  26.422361  2.188003  \n",
       "36   0.749552  26.032028  2.380094  \n",
       "37   1.112106  25.235861  2.446107  \n",
       "38   2.466950  25.557917  2.292986  \n",
       "39   1.923541  24.622500  1.930999  \n",
       "40   2.341252  21.614750  1.723849  \n",
       "41   1.594480  26.231056  2.322679  \n",
       "42   1.507894  26.448352  2.599388  \n",
       "43   1.291712  25.971917  2.492911  \n",
       "44  -0.000971  27.857361  2.703154  \n",
       "45  -0.002753  26.979093  2.481100  \n",
       "46   0.107624  26.313167  2.454949  \n",
       "47   2.852449  25.454972  2.047341  \n",
       "48   1.257595  26.325204  2.174457  \n",
       "49   1.873111  25.838333  1.859968  \n",
       "50   0.494447  27.130556  2.558188  \n",
       "51   0.104627  26.493130  2.379557  \n",
       "52   0.436306  25.538306  2.388829  \n",
       "53   2.094271  25.684028  1.802966  \n",
       "54   0.723373  26.302796  1.936819  \n",
       "55   1.312680  26.447972  1.432334  \n",
       "56   1.198197  26.387667  1.817722  \n",
       "57   0.231627  26.544426  1.777160  \n",
       "58   0.887388  25.202417  1.463848  \n",
       "59   1.935055  26.014889  2.027768  \n",
       "60   0.670589  26.498519  2.101621  \n",
       "61   1.101851  26.194278  2.109548  \n",
       "\n",
       "[62 rows x 10 columns]"
      ]
     },
     "execution_count": 31,
     "metadata": {},
     "output_type": "execute_result"
    }
   ],
   "source": [
    "co2_df = pd.read_csv(\"leaftemp.all.csv\")\n",
    "co2_df"
   ]
  },
  {
   "cell_type": "code",
   "execution_count": 32,
   "metadata": {
    "collapsed": true
   },
   "outputs": [],
   "source": [
    "X  = co2_df.drop(['Unnamed: 0','glasshouse','CO2level'],axis=1)\n",
    "y = co2_df['CO2level']"
   ]
  },
  {
   "cell_type": "markdown",
   "metadata": {},
   "source": [
    "# Decision Tree: With training the data"
   ]
  },
  {
   "cell_type": "code",
   "execution_count": 33,
   "metadata": {},
   "outputs": [
    {
     "name": "stdout",
     "output_type": "stream",
     "text": [
      "if CO2 =< 52.25672149658203: \n",
      "  |then low\n",
      "  |else medium\n",
      "<->\n",
      "Tree Depth:  1\n",
      "Accuracy: 0.6129032258064516\n"
     ]
    }
   ],
   "source": [
    "# set up the tree model object\n",
    "model = tree.DecisionTreeClassifier(criterion='entropy', max_depth=1)\n",
    "\n",
    "# split the data\n",
    "X_train, X_test, y_train, y_test = train_test_split(X, y, train_size=0.5, test_size=0.5)\n",
    "\n",
    "# fit the model on the training set of data\n",
    "model.fit(X_train, y_train)\n",
    "\n",
    "# evaluate the model on the testing set of data\n",
    "y_test_model = model.predict(X_test)\n",
    "\n",
    "# output the results\n",
    "tree_print(model,X)\n",
    "print(\"Accuracy: {}\".format(accuracy_score(y_test, y_test_model)))"
   ]
  },
  {
   "cell_type": "markdown",
   "metadata": {},
   "source": [
    "# Decision Tree: On Just the traning data:-"
   ]
  },
  {
   "cell_type": "code",
   "execution_count": 34,
   "metadata": {},
   "outputs": [
    {
     "name": "stdout",
     "output_type": "stream",
     "text": [
      "if CO2 =< 90.73361206054688: \n",
      "  |then if CO2 =< 52.25672149658203: \n",
      "  |  |then low\n",
      "  |  |else medium\n",
      "  |else high\n",
      "<---->\n",
      "Tree Depth:  2\n",
      "Accuracy: 1.0\n"
     ]
    }
   ],
   "source": [
    "# set up the tree model object\n",
    "model = tree.DecisionTreeClassifier(criterion='entropy', max_depth=None)\n",
    "\n",
    "# fit the model on the training set\n",
    "model.fit(X, y)\n",
    "\n",
    "# evaluate the model on the training set \n",
    "y_model = model.predict(X)\n",
    "\n",
    "# output the results\n",
    "tree_print(model,X)\n",
    "print(\"Accuracy: {}\".format(accuracy_score(y, y_model)))"
   ]
  },
  {
   "cell_type": "markdown",
   "metadata": {},
   "source": [
    "# 5 fold Cross Validation:-"
   ]
  },
  {
   "cell_type": "code",
   "execution_count": 35,
   "metadata": {},
   "outputs": [
    {
     "name": "stdout",
     "output_type": "stream",
     "text": [
      "Fold Accuracies: [ 0.64285714  0.66666667  0.66666667  0.66666667  0.66666667]\n",
      "Accuracy: 0.6619047619047619\n"
     ]
    }
   ],
   "source": [
    "# grab cross validation code\n",
    "from sklearn.model_selection import cross_val_score\n",
    "\n",
    "# set up the model\n",
    "model = tree.DecisionTreeClassifier(criterion='entropy', max_depth=1)\n",
    "\n",
    "# do the 5-fold cross validation\n",
    "scores = cross_val_score(model, X, y, cv=5)\n",
    "print(\"Fold Accuracies: {}\".format(scores))\n",
    "print(\"Accuracy: {}\".format(scores.mean()))"
   ]
  },
  {
   "cell_type": "markdown",
   "metadata": {},
   "source": [
    "# Model Evaluation - the Grid Search"
   ]
  },
  {
   "cell_type": "code",
   "execution_count": 36,
   "metadata": {
    "collapsed": true
   },
   "outputs": [],
   "source": [
    "from sklearn.model_selection import GridSearchCV"
   ]
  },
  {
   "cell_type": "code",
   "execution_count": 37,
   "metadata": {
    "collapsed": true
   },
   "outputs": [],
   "source": [
    "# setting up grid search\n",
    "model = model = tree.DecisionTreeClassifier()\n",
    "param_grid = {'max_depth': list(range(1,2)),\n",
    "              'criterion': ['entropy', 'gini']\n",
    "              }\n",
    "grid = GridSearchCV(model, param_grid, cv=5)"
   ]
  },
  {
   "cell_type": "code",
   "execution_count": 38,
   "metadata": {},
   "outputs": [
    {
     "data": {
      "text/plain": [
       "GridSearchCV(cv=5, error_score='raise',\n",
       "       estimator=DecisionTreeClassifier(class_weight=None, criterion='gini', max_depth=None,\n",
       "            max_features=None, max_leaf_nodes=None,\n",
       "            min_impurity_decrease=0.0, min_impurity_split=None,\n",
       "            min_samples_leaf=1, min_samples_split=2,\n",
       "            min_weight_fraction_leaf=0.0, presort=False, random_state=None,\n",
       "            splitter='best'),\n",
       "       fit_params=None, iid=True, n_jobs=1,\n",
       "       param_grid={'max_depth': [1], 'criterion': ['entropy', 'gini']},\n",
       "       pre_dispatch='2*n_jobs', refit=True, return_train_score='warn',\n",
       "       scoring=None, verbose=0)"
      ]
     },
     "execution_count": 38,
     "metadata": {},
     "output_type": "execute_result"
    }
   ],
   "source": [
    "# performing grid search \n",
    "grid.fit(X,y)"
   ]
  },
  {
   "cell_type": "code",
   "execution_count": 39,
   "metadata": {},
   "outputs": [
    {
     "name": "stdout",
     "output_type": "stream",
     "text": [
      "Best parameters: {'criterion': 'entropy', 'max_depth': 1}\n"
     ]
    }
   ],
   "source": [
    "# print out what we found\n",
    "print(\"Best parameters: {}\".format(grid.best_params_))"
   ]
  },
  {
   "cell_type": "code",
   "execution_count": 40,
   "metadata": {},
   "outputs": [
    {
     "name": "stdout",
     "output_type": "stream",
     "text": [
      "Best tree:\n",
      "if CO2 =< 90.73361206054688: \n",
      "  |then medium\n",
      "  |else high\n",
      "<->\n",
      "Tree Depth:  1\n"
     ]
    }
   ],
   "source": [
    "# print out the best model\n",
    "print(\"Best tree:\")\n",
    "tree_print(grid.best_estimator_,X)"
   ]
  },
  {
   "cell_type": "code",
   "execution_count": 41,
   "metadata": {
    "collapsed": true
   },
   "outputs": [],
   "source": [
    "# Get the accuracy\n",
    "# Evaluate the tree\n",
    "# predicting        \n",
    "predict_y = grid.best_estimator_.predict(X)\n",
    "actual_y = y"
   ]
  },
  {
   "cell_type": "code",
   "execution_count": 42,
   "metadata": {},
   "outputs": [
    {
     "name": "stdout",
     "output_type": "stream",
     "text": [
      "Accuracy: 0.6774193548387096\n"
     ]
    }
   ],
   "source": [
    "# accuracy          \n",
    "print(\"Accuracy: {}\".format(accuracy_score(actual_y, predict_y)))"
   ]
  },
  {
   "cell_type": "code",
   "execution_count": 43,
   "metadata": {},
   "outputs": [
    {
     "data": {
      "text/html": [
       "<div>\n",
       "<style>\n",
       "    .dataframe thead tr:only-child th {\n",
       "        text-align: right;\n",
       "    }\n",
       "\n",
       "    .dataframe thead th {\n",
       "        text-align: left;\n",
       "    }\n",
       "\n",
       "    .dataframe tbody tr th {\n",
       "        vertical-align: top;\n",
       "    }\n",
       "</style>\n",
       "<table border=\"1\" class=\"dataframe\">\n",
       "  <thead>\n",
       "    <tr style=\"text-align: right;\">\n",
       "      <th></th>\n",
       "      <th>day</th>\n",
       "      <th>light</th>\n",
       "      <th>CO2</th>\n",
       "      <th>tempDiff</th>\n",
       "      <th>BtempDiff</th>\n",
       "      <th>airTemp</th>\n",
       "      <th>vapPress</th>\n",
       "    </tr>\n",
       "  </thead>\n",
       "  <tbody>\n",
       "    <tr>\n",
       "      <th>0</th>\n",
       "      <td>0</td>\n",
       "      <td>1143.060000</td>\n",
       "      <td>127.112222</td>\n",
       "      <td>1.835037</td>\n",
       "      <td>1.496457</td>\n",
       "      <td>26.047167</td>\n",
       "      <td>2.563877</td>\n",
       "    </tr>\n",
       "    <tr>\n",
       "      <th>1</th>\n",
       "      <td>0</td>\n",
       "      <td>1143.060000</td>\n",
       "      <td>39.854833</td>\n",
       "      <td>1.542604</td>\n",
       "      <td>1.355216</td>\n",
       "      <td>24.102750</td>\n",
       "      <td>1.878973</td>\n",
       "    </tr>\n",
       "    <tr>\n",
       "      <th>2</th>\n",
       "      <td>0</td>\n",
       "      <td>1143.060000</td>\n",
       "      <td>70.938111</td>\n",
       "      <td>1.962119</td>\n",
       "      <td>1.942780</td>\n",
       "      <td>26.711556</td>\n",
       "      <td>2.375940</td>\n",
       "    </tr>\n",
       "    <tr>\n",
       "      <th>3</th>\n",
       "      <td>1</td>\n",
       "      <td>465.810556</td>\n",
       "      <td>128.404444</td>\n",
       "      <td>0.928792</td>\n",
       "      <td>0.849522</td>\n",
       "      <td>25.135167</td>\n",
       "      <td>2.546759</td>\n",
       "    </tr>\n",
       "    <tr>\n",
       "      <th>4</th>\n",
       "      <td>1</td>\n",
       "      <td>465.810556</td>\n",
       "      <td>40.996556</td>\n",
       "      <td>0.680829</td>\n",
       "      <td>0.599220</td>\n",
       "      <td>24.899306</td>\n",
       "      <td>2.198131</td>\n",
       "    </tr>\n",
       "  </tbody>\n",
       "</table>\n",
       "</div>"
      ],
      "text/plain": [
       "   day        light         CO2  tempDiff  BtempDiff    airTemp  vapPress\n",
       "0    0  1143.060000  127.112222  1.835037   1.496457  26.047167  2.563877\n",
       "1    0  1143.060000   39.854833  1.542604   1.355216  24.102750  1.878973\n",
       "2    0  1143.060000   70.938111  1.962119   1.942780  26.711556  2.375940\n",
       "3    1   465.810556  128.404444  0.928792   0.849522  25.135167  2.546759\n",
       "4    1   465.810556   40.996556  0.680829   0.599220  24.899306  2.198131"
      ]
     },
     "execution_count": 43,
     "metadata": {},
     "output_type": "execute_result"
    }
   ],
   "source": [
    "features_df  = co2_df.drop(['Unnamed: 0','glasshouse','CO2level'],axis=1)\n",
    "features_df.head()"
   ]
  },
  {
   "cell_type": "code",
   "execution_count": 44,
   "metadata": {},
   "outputs": [
    {
     "data": {
      "text/html": [
       "<div>\n",
       "<style>\n",
       "    .dataframe thead tr:only-child th {\n",
       "        text-align: right;\n",
       "    }\n",
       "\n",
       "    .dataframe thead th {\n",
       "        text-align: left;\n",
       "    }\n",
       "\n",
       "    .dataframe tbody tr th {\n",
       "        vertical-align: top;\n",
       "    }\n",
       "</style>\n",
       "<table border=\"1\" class=\"dataframe\">\n",
       "  <thead>\n",
       "    <tr style=\"text-align: right;\">\n",
       "      <th></th>\n",
       "      <th>CO2level</th>\n",
       "    </tr>\n",
       "  </thead>\n",
       "  <tbody>\n",
       "    <tr>\n",
       "      <th>0</th>\n",
       "      <td>high</td>\n",
       "    </tr>\n",
       "    <tr>\n",
       "      <th>1</th>\n",
       "      <td>low</td>\n",
       "    </tr>\n",
       "    <tr>\n",
       "      <th>2</th>\n",
       "      <td>medium</td>\n",
       "    </tr>\n",
       "    <tr>\n",
       "      <th>3</th>\n",
       "      <td>high</td>\n",
       "    </tr>\n",
       "    <tr>\n",
       "      <th>4</th>\n",
       "      <td>low</td>\n",
       "    </tr>\n",
       "  </tbody>\n",
       "</table>\n",
       "</div>"
      ],
      "text/plain": [
       "  CO2level\n",
       "0     high\n",
       "1      low\n",
       "2   medium\n",
       "3     high\n",
       "4      low"
      ]
     },
     "execution_count": 44,
     "metadata": {},
     "output_type": "execute_result"
    }
   ],
   "source": [
    "target_df = pd.DataFrame(co2_df['CO2level'])\n",
    "target_df.head()"
   ]
  },
  {
   "cell_type": "code",
   "execution_count": 45,
   "metadata": {},
   "outputs": [
    {
     "name": "stdout",
     "output_type": "stream",
     "text": [
      "if CO2 =< 90.73361206054688: \n",
      "  |then if CO2 =< 52.25672149658203: \n",
      "  |  |then low\n",
      "  |  |else medium\n",
      "  |else high\n",
      "<---->\n",
      "Tree Depth:  2\n"
     ]
    }
   ],
   "source": [
    "dtree = tree.DecisionTreeClassifier(criterion='entropy')\n",
    "dtree.fit(features_df,target_df)\n",
    "tree_print(dtree,features_df)"
   ]
  },
  {
   "cell_type": "markdown",
   "metadata": {
    "collapsed": true
   },
   "source": [
    "# Confidence Interval"
   ]
  },
  {
   "cell_type": "code",
   "execution_count": 73,
   "metadata": {},
   "outputs": [],
   "source": [
    "from sklearn import tree\n",
    "from treeviz import tree_print\n",
    "from sklearn.metrics import accuracy_score\n",
    "from sklearn.model_selection import cross_val_score\n",
    "from sklearn.model_selection import train_test_split"
   ]
  },
  {
   "cell_type": "code",
   "execution_count": 79,
   "metadata": {},
   "outputs": [],
   "source": [
    "def bootstrap(model,D,target_name):\n",
    "    rows,cols = D.shape\n",
    "    acc_list =[]\n",
    "    for i in range(200):\n",
    "        B=D.sample(n=rows,replace = True)\n",
    "        X=B.drop(target_name,1)\n",
    "        y=B[target_name]\n",
    "        X_train, X_test, y_train, y_test = train_test_split(X, y, train_size=0.5)\n",
    "        model.fit(X_train, y_train)\n",
    "        pridict_Y = model.predict(test_X)\n",
    "        acc_list.append(accuracy_score(test_y,predict_y))\n",
    "    acc_list.sort()\n",
    "    ub = percentile(acc_list,97.5)\n",
    "    lb = percentile(acc_list,2.5)\n",
    "    return (lb,ub)"
   ]
  },
  {
   "cell_type": "code",
   "execution_count": 64,
   "metadata": {
    "collapsed": true
   },
   "outputs": [],
   "source": [
    "t1 = tree.DecisionTreeClassifier(criterion='entropy', max_depth=1)\n",
    "t2 = tree.DecisionTreeClassifier(criterion='entropy', max_depth= None)"
   ]
  },
  {
   "cell_type": "code",
   "execution_count": 65,
   "metadata": {},
   "outputs": [
    {
     "name": "stdout",
     "output_type": "stream",
     "text": [
      "******'CO2'*******\n"
     ]
    }
   ],
   "source": [
    "print(\"******'CO2'*******\")\n",
    "co2_df = pd.read_csv(\"leaftemp.all.csv\")"
   ]
  },
  {
   "cell_type": "code",
   "execution_count": 80,
   "metadata": {},
   "outputs": [
    {
     "name": "stderr",
     "output_type": "stream",
     "text": [
      "/Users/shehjarsadhu/anaconda3/lib/python3.6/site-packages/sklearn/model_selection/_split.py:2026: FutureWarning: From version 0.21, test_size will always complement train_size unless both are specified.\n",
      "  FutureWarning)\n"
     ]
    },
    {
     "ename": "ValueError",
     "evalue": "could not convert string to float: 'B'",
     "output_type": "error",
     "traceback": [
      "\u001b[0;31m---------------------------------------------------------------------------\u001b[0m",
      "\u001b[0;31mValueError\u001b[0m                                Traceback (most recent call last)",
      "\u001b[0;32m<ipython-input-80-2193c50d3d04>\u001b[0m in \u001b[0;36m<module>\u001b[0;34m()\u001b[0m\n\u001b[0;32m----> 1\u001b[0;31m \u001b[0mprint\u001b[0m\u001b[0;34m(\u001b[0m\u001b[0;34m\"CONFIDENCE INTERVAL MAX DEPTH = 1:{}\"\u001b[0m\u001b[0;34m.\u001b[0m\u001b[0mformat\u001b[0m\u001b[0;34m(\u001b[0m\u001b[0mbootstrap\u001b[0m\u001b[0;34m(\u001b[0m\u001b[0mt1\u001b[0m\u001b[0;34m,\u001b[0m\u001b[0mco2_df\u001b[0m\u001b[0;34m,\u001b[0m\u001b[0;34m'CO2level'\u001b[0m\u001b[0;34m)\u001b[0m\u001b[0;34m)\u001b[0m\u001b[0;34m)\u001b[0m\u001b[0;34m\u001b[0m\u001b[0m\n\u001b[0m\u001b[1;32m      2\u001b[0m \u001b[0mprint\u001b[0m\u001b[0;34m(\u001b[0m\u001b[0;34m\"CONFIDENCE INTERVAL MAX DEPTH = None:{}\"\u001b[0m\u001b[0;34m.\u001b[0m\u001b[0mformat\u001b[0m\u001b[0;34m(\u001b[0m\u001b[0mbootstrap\u001b[0m\u001b[0;34m(\u001b[0m\u001b[0mt2\u001b[0m\u001b[0;34m,\u001b[0m\u001b[0mco2_df\u001b[0m\u001b[0;34m,\u001b[0m\u001b[0;34m'CO2level'\u001b[0m\u001b[0;34m)\u001b[0m\u001b[0;34m)\u001b[0m\u001b[0;34m)\u001b[0m\u001b[0;34m\u001b[0m\u001b[0m\n",
      "\u001b[0;32m<ipython-input-79-f3b2fc9e7b89>\u001b[0m in \u001b[0;36mbootstrap\u001b[0;34m(model, D, target_name)\u001b[0m\n\u001b[1;32m      7\u001b[0m         \u001b[0my\u001b[0m\u001b[0;34m=\u001b[0m\u001b[0mB\u001b[0m\u001b[0;34m[\u001b[0m\u001b[0mtarget_name\u001b[0m\u001b[0;34m]\u001b[0m\u001b[0;34m\u001b[0m\u001b[0m\n\u001b[1;32m      8\u001b[0m         \u001b[0mX_train\u001b[0m\u001b[0;34m,\u001b[0m \u001b[0mX_test\u001b[0m\u001b[0;34m,\u001b[0m \u001b[0my_train\u001b[0m\u001b[0;34m,\u001b[0m \u001b[0my_test\u001b[0m \u001b[0;34m=\u001b[0m \u001b[0mtrain_test_split\u001b[0m\u001b[0;34m(\u001b[0m\u001b[0mX\u001b[0m\u001b[0;34m,\u001b[0m \u001b[0my\u001b[0m\u001b[0;34m,\u001b[0m \u001b[0mtrain_size\u001b[0m\u001b[0;34m=\u001b[0m\u001b[0;36m0.5\u001b[0m\u001b[0;34m)\u001b[0m\u001b[0;34m\u001b[0m\u001b[0m\n\u001b[0;32m----> 9\u001b[0;31m         \u001b[0mmodel\u001b[0m\u001b[0;34m.\u001b[0m\u001b[0mfit\u001b[0m\u001b[0;34m(\u001b[0m\u001b[0mX_train\u001b[0m\u001b[0;34m,\u001b[0m \u001b[0my_train\u001b[0m\u001b[0;34m)\u001b[0m\u001b[0;34m\u001b[0m\u001b[0m\n\u001b[0m\u001b[1;32m     10\u001b[0m         \u001b[0mpridict_Y\u001b[0m \u001b[0;34m=\u001b[0m \u001b[0mmodel\u001b[0m\u001b[0;34m.\u001b[0m\u001b[0mpredict\u001b[0m\u001b[0;34m(\u001b[0m\u001b[0mtest_X\u001b[0m\u001b[0;34m)\u001b[0m\u001b[0;34m\u001b[0m\u001b[0m\n\u001b[1;32m     11\u001b[0m         \u001b[0macc_list\u001b[0m\u001b[0;34m.\u001b[0m\u001b[0mappend\u001b[0m\u001b[0;34m(\u001b[0m\u001b[0maccuracy_score\u001b[0m\u001b[0;34m(\u001b[0m\u001b[0mtest_y\u001b[0m\u001b[0;34m,\u001b[0m\u001b[0mpredict_y\u001b[0m\u001b[0;34m)\u001b[0m\u001b[0;34m)\u001b[0m\u001b[0;34m\u001b[0m\u001b[0m\n",
      "\u001b[0;32m~/anaconda3/lib/python3.6/site-packages/sklearn/tree/tree.py\u001b[0m in \u001b[0;36mfit\u001b[0;34m(self, X, y, sample_weight, check_input, X_idx_sorted)\u001b[0m\n\u001b[1;32m    788\u001b[0m             \u001b[0msample_weight\u001b[0m\u001b[0;34m=\u001b[0m\u001b[0msample_weight\u001b[0m\u001b[0;34m,\u001b[0m\u001b[0;34m\u001b[0m\u001b[0m\n\u001b[1;32m    789\u001b[0m             \u001b[0mcheck_input\u001b[0m\u001b[0;34m=\u001b[0m\u001b[0mcheck_input\u001b[0m\u001b[0;34m,\u001b[0m\u001b[0;34m\u001b[0m\u001b[0m\n\u001b[0;32m--> 790\u001b[0;31m             X_idx_sorted=X_idx_sorted)\n\u001b[0m\u001b[1;32m    791\u001b[0m         \u001b[0;32mreturn\u001b[0m \u001b[0mself\u001b[0m\u001b[0;34m\u001b[0m\u001b[0m\n\u001b[1;32m    792\u001b[0m \u001b[0;34m\u001b[0m\u001b[0m\n",
      "\u001b[0;32m~/anaconda3/lib/python3.6/site-packages/sklearn/tree/tree.py\u001b[0m in \u001b[0;36mfit\u001b[0;34m(self, X, y, sample_weight, check_input, X_idx_sorted)\u001b[0m\n\u001b[1;32m    114\u001b[0m         \u001b[0mrandom_state\u001b[0m \u001b[0;34m=\u001b[0m \u001b[0mcheck_random_state\u001b[0m\u001b[0;34m(\u001b[0m\u001b[0mself\u001b[0m\u001b[0;34m.\u001b[0m\u001b[0mrandom_state\u001b[0m\u001b[0;34m)\u001b[0m\u001b[0;34m\u001b[0m\u001b[0m\n\u001b[1;32m    115\u001b[0m         \u001b[0;32mif\u001b[0m \u001b[0mcheck_input\u001b[0m\u001b[0;34m:\u001b[0m\u001b[0;34m\u001b[0m\u001b[0m\n\u001b[0;32m--> 116\u001b[0;31m             \u001b[0mX\u001b[0m \u001b[0;34m=\u001b[0m \u001b[0mcheck_array\u001b[0m\u001b[0;34m(\u001b[0m\u001b[0mX\u001b[0m\u001b[0;34m,\u001b[0m \u001b[0mdtype\u001b[0m\u001b[0;34m=\u001b[0m\u001b[0mDTYPE\u001b[0m\u001b[0;34m,\u001b[0m \u001b[0maccept_sparse\u001b[0m\u001b[0;34m=\u001b[0m\u001b[0;34m\"csc\"\u001b[0m\u001b[0;34m)\u001b[0m\u001b[0;34m\u001b[0m\u001b[0m\n\u001b[0m\u001b[1;32m    117\u001b[0m             \u001b[0my\u001b[0m \u001b[0;34m=\u001b[0m \u001b[0mcheck_array\u001b[0m\u001b[0;34m(\u001b[0m\u001b[0my\u001b[0m\u001b[0;34m,\u001b[0m \u001b[0mensure_2d\u001b[0m\u001b[0;34m=\u001b[0m\u001b[0;32mFalse\u001b[0m\u001b[0;34m,\u001b[0m \u001b[0mdtype\u001b[0m\u001b[0;34m=\u001b[0m\u001b[0;32mNone\u001b[0m\u001b[0;34m)\u001b[0m\u001b[0;34m\u001b[0m\u001b[0m\n\u001b[1;32m    118\u001b[0m             \u001b[0;32mif\u001b[0m \u001b[0missparse\u001b[0m\u001b[0;34m(\u001b[0m\u001b[0mX\u001b[0m\u001b[0;34m)\u001b[0m\u001b[0;34m:\u001b[0m\u001b[0;34m\u001b[0m\u001b[0m\n",
      "\u001b[0;32m~/anaconda3/lib/python3.6/site-packages/sklearn/utils/validation.py\u001b[0m in \u001b[0;36mcheck_array\u001b[0;34m(array, accept_sparse, dtype, order, copy, force_all_finite, ensure_2d, allow_nd, ensure_min_samples, ensure_min_features, warn_on_dtype, estimator)\u001b[0m\n\u001b[1;32m    431\u001b[0m                                       force_all_finite)\n\u001b[1;32m    432\u001b[0m     \u001b[0;32melse\u001b[0m\u001b[0;34m:\u001b[0m\u001b[0;34m\u001b[0m\u001b[0m\n\u001b[0;32m--> 433\u001b[0;31m         \u001b[0marray\u001b[0m \u001b[0;34m=\u001b[0m \u001b[0mnp\u001b[0m\u001b[0;34m.\u001b[0m\u001b[0marray\u001b[0m\u001b[0;34m(\u001b[0m\u001b[0marray\u001b[0m\u001b[0;34m,\u001b[0m \u001b[0mdtype\u001b[0m\u001b[0;34m=\u001b[0m\u001b[0mdtype\u001b[0m\u001b[0;34m,\u001b[0m \u001b[0morder\u001b[0m\u001b[0;34m=\u001b[0m\u001b[0morder\u001b[0m\u001b[0;34m,\u001b[0m \u001b[0mcopy\u001b[0m\u001b[0;34m=\u001b[0m\u001b[0mcopy\u001b[0m\u001b[0;34m)\u001b[0m\u001b[0;34m\u001b[0m\u001b[0m\n\u001b[0m\u001b[1;32m    434\u001b[0m \u001b[0;34m\u001b[0m\u001b[0m\n\u001b[1;32m    435\u001b[0m         \u001b[0;32mif\u001b[0m \u001b[0mensure_2d\u001b[0m\u001b[0;34m:\u001b[0m\u001b[0;34m\u001b[0m\u001b[0m\n",
      "\u001b[0;31mValueError\u001b[0m: could not convert string to float: 'B'"
     ]
    }
   ],
   "source": [
    "print(\"CONFIDENCE INTERVAL MAX DEPTH = 1:{}\".format(bootstrap(t1,co2_df,'CO2level')))\n",
    "print(\"CONFIDENCE INTERVAL MAX DEPTH = None:{}\".format(bootstrap(t2,co2_df,'CO2level')))"
   ]
  },
  {
   "cell_type": "code",
   "execution_count": null,
   "metadata": {
    "collapsed": true
   },
   "outputs": [],
   "source": []
  },
  {
   "cell_type": "code",
   "execution_count": null,
   "metadata": {
    "collapsed": true
   },
   "outputs": [],
   "source": []
  },
  {
   "cell_type": "code",
   "execution_count": null,
   "metadata": {
    "collapsed": true
   },
   "outputs": [],
   "source": []
  },
  {
   "cell_type": "code",
   "execution_count": null,
   "metadata": {
    "collapsed": true
   },
   "outputs": [],
   "source": []
  },
  {
   "cell_type": "code",
   "execution_count": null,
   "metadata": {
    "collapsed": true
   },
   "outputs": [],
   "source": []
  },
  {
   "cell_type": "code",
   "execution_count": null,
   "metadata": {
    "collapsed": true
   },
   "outputs": [],
   "source": []
  },
  {
   "cell_type": "code",
   "execution_count": null,
   "metadata": {
    "collapsed": true
   },
   "outputs": [],
   "source": []
  },
  {
   "cell_type": "code",
   "execution_count": null,
   "metadata": {
    "collapsed": true
   },
   "outputs": [],
   "source": []
  },
  {
   "cell_type": "code",
   "execution_count": null,
   "metadata": {
    "collapsed": true
   },
   "outputs": [],
   "source": []
  },
  {
   "cell_type": "code",
   "execution_count": null,
   "metadata": {
    "collapsed": true
   },
   "outputs": [],
   "source": []
  },
  {
   "cell_type": "code",
   "execution_count": null,
   "metadata": {
    "collapsed": true
   },
   "outputs": [],
   "source": []
  },
  {
   "cell_type": "code",
   "execution_count": null,
   "metadata": {
    "collapsed": true
   },
   "outputs": [],
   "source": []
  },
  {
   "cell_type": "code",
   "execution_count": null,
   "metadata": {
    "collapsed": true
   },
   "outputs": [],
   "source": []
  },
  {
   "cell_type": "code",
   "execution_count": null,
   "metadata": {
    "collapsed": true
   },
   "outputs": [],
   "source": []
  },
  {
   "cell_type": "code",
   "execution_count": null,
   "metadata": {
    "collapsed": true
   },
   "outputs": [],
   "source": []
  },
  {
   "cell_type": "code",
   "execution_count": null,
   "metadata": {
    "collapsed": true
   },
   "outputs": [],
   "source": []
  },
  {
   "cell_type": "code",
   "execution_count": null,
   "metadata": {
    "collapsed": true
   },
   "outputs": [],
   "source": []
  },
  {
   "cell_type": "code",
   "execution_count": null,
   "metadata": {
    "collapsed": true
   },
   "outputs": [],
   "source": []
  },
  {
   "cell_type": "code",
   "execution_count": null,
   "metadata": {
    "collapsed": true
   },
   "outputs": [],
   "source": []
  },
  {
   "cell_type": "code",
   "execution_count": null,
   "metadata": {
    "collapsed": true
   },
   "outputs": [],
   "source": []
  },
  {
   "cell_type": "code",
   "execution_count": null,
   "metadata": {
    "collapsed": true
   },
   "outputs": [],
   "source": []
  },
  {
   "cell_type": "code",
   "execution_count": null,
   "metadata": {
    "collapsed": true
   },
   "outputs": [],
   "source": []
  },
  {
   "cell_type": "code",
   "execution_count": null,
   "metadata": {
    "collapsed": true
   },
   "outputs": [],
   "source": []
  },
  {
   "cell_type": "code",
   "execution_count": null,
   "metadata": {
    "collapsed": true
   },
   "outputs": [],
   "source": []
  },
  {
   "cell_type": "code",
   "execution_count": null,
   "metadata": {
    "collapsed": true
   },
   "outputs": [],
   "source": []
  },
  {
   "cell_type": "code",
   "execution_count": null,
   "metadata": {
    "collapsed": true
   },
   "outputs": [],
   "source": []
  },
  {
   "cell_type": "code",
   "execution_count": null,
   "metadata": {
    "collapsed": true
   },
   "outputs": [],
   "source": []
  },
  {
   "cell_type": "code",
   "execution_count": null,
   "metadata": {
    "collapsed": true
   },
   "outputs": [],
   "source": []
  },
  {
   "cell_type": "code",
   "execution_count": null,
   "metadata": {
    "collapsed": true
   },
   "outputs": [],
   "source": []
  },
  {
   "cell_type": "code",
   "execution_count": null,
   "metadata": {
    "collapsed": true
   },
   "outputs": [],
   "source": []
  },
  {
   "cell_type": "code",
   "execution_count": null,
   "metadata": {
    "collapsed": true
   },
   "outputs": [],
   "source": []
  },
  {
   "cell_type": "code",
   "execution_count": null,
   "metadata": {
    "collapsed": true
   },
   "outputs": [],
   "source": []
  },
  {
   "cell_type": "code",
   "execution_count": null,
   "metadata": {
    "collapsed": true
   },
   "outputs": [],
   "source": []
  },
  {
   "cell_type": "code",
   "execution_count": null,
   "metadata": {
    "collapsed": true
   },
   "outputs": [],
   "source": []
  },
  {
   "cell_type": "code",
   "execution_count": null,
   "metadata": {
    "collapsed": true
   },
   "outputs": [],
   "source": []
  },
  {
   "cell_type": "code",
   "execution_count": null,
   "metadata": {
    "collapsed": true
   },
   "outputs": [],
   "source": []
  },
  {
   "cell_type": "code",
   "execution_count": null,
   "metadata": {
    "collapsed": true
   },
   "outputs": [],
   "source": []
  },
  {
   "cell_type": "code",
   "execution_count": null,
   "metadata": {
    "collapsed": true
   },
   "outputs": [],
   "source": []
  },
  {
   "cell_type": "code",
   "execution_count": null,
   "metadata": {
    "collapsed": true
   },
   "outputs": [],
   "source": []
  },
  {
   "cell_type": "code",
   "execution_count": null,
   "metadata": {
    "collapsed": true
   },
   "outputs": [],
   "source": []
  },
  {
   "cell_type": "code",
   "execution_count": null,
   "metadata": {
    "collapsed": true
   },
   "outputs": [],
   "source": []
  },
  {
   "cell_type": "code",
   "execution_count": null,
   "metadata": {
    "collapsed": true
   },
   "outputs": [],
   "source": []
  },
  {
   "cell_type": "code",
   "execution_count": null,
   "metadata": {
    "collapsed": true
   },
   "outputs": [],
   "source": []
  },
  {
   "cell_type": "code",
   "execution_count": null,
   "metadata": {
    "collapsed": true
   },
   "outputs": [],
   "source": []
  },
  {
   "cell_type": "code",
   "execution_count": null,
   "metadata": {
    "collapsed": true
   },
   "outputs": [],
   "source": []
  },
  {
   "cell_type": "code",
   "execution_count": null,
   "metadata": {
    "collapsed": true
   },
   "outputs": [],
   "source": []
  },
  {
   "cell_type": "code",
   "execution_count": null,
   "metadata": {
    "collapsed": true
   },
   "outputs": [],
   "source": []
  },
  {
   "cell_type": "code",
   "execution_count": null,
   "metadata": {
    "collapsed": true
   },
   "outputs": [],
   "source": []
  },
  {
   "cell_type": "code",
   "execution_count": null,
   "metadata": {
    "collapsed": true
   },
   "outputs": [],
   "source": []
  },
  {
   "cell_type": "code",
   "execution_count": null,
   "metadata": {
    "collapsed": true
   },
   "outputs": [],
   "source": []
  },
  {
   "cell_type": "code",
   "execution_count": null,
   "metadata": {
    "collapsed": true
   },
   "outputs": [],
   "source": []
  },
  {
   "cell_type": "code",
   "execution_count": null,
   "metadata": {
    "collapsed": true
   },
   "outputs": [],
   "source": []
  },
  {
   "cell_type": "code",
   "execution_count": null,
   "metadata": {
    "collapsed": true
   },
   "outputs": [],
   "source": []
  },
  {
   "cell_type": "code",
   "execution_count": null,
   "metadata": {
    "collapsed": true
   },
   "outputs": [],
   "source": []
  },
  {
   "cell_type": "code",
   "execution_count": null,
   "metadata": {
    "collapsed": true
   },
   "outputs": [],
   "source": []
  },
  {
   "cell_type": "code",
   "execution_count": null,
   "metadata": {
    "collapsed": true
   },
   "outputs": [],
   "source": []
  },
  {
   "cell_type": "code",
   "execution_count": null,
   "metadata": {
    "collapsed": true
   },
   "outputs": [],
   "source": []
  },
  {
   "cell_type": "code",
   "execution_count": null,
   "metadata": {
    "collapsed": true
   },
   "outputs": [],
   "source": []
  },
  {
   "cell_type": "code",
   "execution_count": null,
   "metadata": {
    "collapsed": true
   },
   "outputs": [],
   "source": []
  },
  {
   "cell_type": "code",
   "execution_count": null,
   "metadata": {
    "collapsed": true
   },
   "outputs": [],
   "source": []
  },
  {
   "cell_type": "code",
   "execution_count": null,
   "metadata": {
    "collapsed": true
   },
   "outputs": [],
   "source": []
  },
  {
   "cell_type": "code",
   "execution_count": null,
   "metadata": {
    "collapsed": true
   },
   "outputs": [],
   "source": []
  },
  {
   "cell_type": "code",
   "execution_count": null,
   "metadata": {
    "collapsed": true
   },
   "outputs": [],
   "source": []
  },
  {
   "cell_type": "code",
   "execution_count": null,
   "metadata": {
    "collapsed": true
   },
   "outputs": [],
   "source": []
  },
  {
   "cell_type": "code",
   "execution_count": null,
   "metadata": {
    "collapsed": true
   },
   "outputs": [],
   "source": []
  },
  {
   "cell_type": "code",
   "execution_count": null,
   "metadata": {
    "collapsed": true
   },
   "outputs": [],
   "source": []
  },
  {
   "cell_type": "code",
   "execution_count": null,
   "metadata": {
    "collapsed": true
   },
   "outputs": [],
   "source": []
  },
  {
   "cell_type": "code",
   "execution_count": null,
   "metadata": {
    "collapsed": true
   },
   "outputs": [],
   "source": []
  },
  {
   "cell_type": "code",
   "execution_count": null,
   "metadata": {
    "collapsed": true
   },
   "outputs": [],
   "source": []
  },
  {
   "cell_type": "code",
   "execution_count": null,
   "metadata": {
    "collapsed": true
   },
   "outputs": [],
   "source": []
  },
  {
   "cell_type": "code",
   "execution_count": null,
   "metadata": {
    "collapsed": true
   },
   "outputs": [],
   "source": []
  },
  {
   "cell_type": "code",
   "execution_count": null,
   "metadata": {
    "collapsed": true
   },
   "outputs": [],
   "source": []
  },
  {
   "cell_type": "code",
   "execution_count": null,
   "metadata": {
    "collapsed": true
   },
   "outputs": [],
   "source": []
  },
  {
   "cell_type": "code",
   "execution_count": null,
   "metadata": {
    "collapsed": true
   },
   "outputs": [],
   "source": []
  },
  {
   "cell_type": "code",
   "execution_count": null,
   "metadata": {
    "collapsed": true
   },
   "outputs": [],
   "source": []
  },
  {
   "cell_type": "code",
   "execution_count": null,
   "metadata": {
    "collapsed": true
   },
   "outputs": [],
   "source": []
  },
  {
   "cell_type": "code",
   "execution_count": null,
   "metadata": {
    "collapsed": true
   },
   "outputs": [],
   "source": []
  },
  {
   "cell_type": "code",
   "execution_count": null,
   "metadata": {
    "collapsed": true
   },
   "outputs": [],
   "source": []
  },
  {
   "cell_type": "code",
   "execution_count": null,
   "metadata": {
    "collapsed": true
   },
   "outputs": [],
   "source": []
  },
  {
   "cell_type": "code",
   "execution_count": null,
   "metadata": {
    "collapsed": true
   },
   "outputs": [],
   "source": []
  },
  {
   "cell_type": "code",
   "execution_count": null,
   "metadata": {
    "collapsed": true
   },
   "outputs": [],
   "source": []
  },
  {
   "cell_type": "code",
   "execution_count": null,
   "metadata": {
    "collapsed": true
   },
   "outputs": [],
   "source": []
  },
  {
   "cell_type": "code",
   "execution_count": null,
   "metadata": {
    "collapsed": true
   },
   "outputs": [],
   "source": []
  },
  {
   "cell_type": "code",
   "execution_count": null,
   "metadata": {
    "collapsed": true
   },
   "outputs": [],
   "source": []
  },
  {
   "cell_type": "code",
   "execution_count": null,
   "metadata": {
    "collapsed": true
   },
   "outputs": [],
   "source": []
  },
  {
   "cell_type": "code",
   "execution_count": null,
   "metadata": {
    "collapsed": true
   },
   "outputs": [],
   "source": []
  },
  {
   "cell_type": "code",
   "execution_count": null,
   "metadata": {
    "collapsed": true
   },
   "outputs": [],
   "source": []
  },
  {
   "cell_type": "code",
   "execution_count": null,
   "metadata": {
    "collapsed": true
   },
   "outputs": [],
   "source": []
  },
  {
   "cell_type": "code",
   "execution_count": null,
   "metadata": {
    "collapsed": true
   },
   "outputs": [],
   "source": []
  },
  {
   "cell_type": "code",
   "execution_count": null,
   "metadata": {
    "collapsed": true
   },
   "outputs": [],
   "source": []
  },
  {
   "cell_type": "code",
   "execution_count": null,
   "metadata": {
    "collapsed": true
   },
   "outputs": [],
   "source": []
  },
  {
   "cell_type": "code",
   "execution_count": null,
   "metadata": {
    "collapsed": true
   },
   "outputs": [],
   "source": []
  },
  {
   "cell_type": "code",
   "execution_count": null,
   "metadata": {
    "collapsed": true
   },
   "outputs": [],
   "source": []
  },
  {
   "cell_type": "code",
   "execution_count": null,
   "metadata": {
    "collapsed": true
   },
   "outputs": [],
   "source": []
  },
  {
   "cell_type": "code",
   "execution_count": null,
   "metadata": {
    "collapsed": true
   },
   "outputs": [],
   "source": []
  },
  {
   "cell_type": "code",
   "execution_count": null,
   "metadata": {
    "collapsed": true
   },
   "outputs": [],
   "source": []
  },
  {
   "cell_type": "code",
   "execution_count": null,
   "metadata": {
    "collapsed": true
   },
   "outputs": [],
   "source": []
  },
  {
   "cell_type": "code",
   "execution_count": null,
   "metadata": {
    "collapsed": true
   },
   "outputs": [],
   "source": []
  },
  {
   "cell_type": "code",
   "execution_count": null,
   "metadata": {
    "collapsed": true
   },
   "outputs": [],
   "source": []
  },
  {
   "cell_type": "code",
   "execution_count": null,
   "metadata": {
    "collapsed": true
   },
   "outputs": [],
   "source": []
  },
  {
   "cell_type": "code",
   "execution_count": null,
   "metadata": {
    "collapsed": true
   },
   "outputs": [],
   "source": []
  },
  {
   "cell_type": "code",
   "execution_count": null,
   "metadata": {
    "collapsed": true
   },
   "outputs": [],
   "source": []
  },
  {
   "cell_type": "code",
   "execution_count": null,
   "metadata": {
    "collapsed": true
   },
   "outputs": [],
   "source": []
  },
  {
   "cell_type": "code",
   "execution_count": null,
   "metadata": {
    "collapsed": true
   },
   "outputs": [],
   "source": []
  },
  {
   "cell_type": "code",
   "execution_count": null,
   "metadata": {
    "collapsed": true
   },
   "outputs": [],
   "source": []
  },
  {
   "cell_type": "code",
   "execution_count": null,
   "metadata": {
    "collapsed": true
   },
   "outputs": [],
   "source": []
  },
  {
   "cell_type": "code",
   "execution_count": null,
   "metadata": {
    "collapsed": true
   },
   "outputs": [],
   "source": []
  },
  {
   "cell_type": "code",
   "execution_count": null,
   "metadata": {
    "collapsed": true
   },
   "outputs": [],
   "source": []
  },
  {
   "cell_type": "code",
   "execution_count": null,
   "metadata": {
    "collapsed": true
   },
   "outputs": [],
   "source": []
  },
  {
   "cell_type": "code",
   "execution_count": null,
   "metadata": {
    "collapsed": true
   },
   "outputs": [],
   "source": []
  },
  {
   "cell_type": "code",
   "execution_count": null,
   "metadata": {
    "collapsed": true
   },
   "outputs": [],
   "source": []
  },
  {
   "cell_type": "code",
   "execution_count": null,
   "metadata": {
    "collapsed": true
   },
   "outputs": [],
   "source": []
  },
  {
   "cell_type": "code",
   "execution_count": null,
   "metadata": {
    "collapsed": true
   },
   "outputs": [],
   "source": []
  },
  {
   "cell_type": "code",
   "execution_count": null,
   "metadata": {
    "collapsed": true
   },
   "outputs": [],
   "source": []
  },
  {
   "cell_type": "code",
   "execution_count": null,
   "metadata": {
    "collapsed": true
   },
   "outputs": [],
   "source": []
  },
  {
   "cell_type": "code",
   "execution_count": null,
   "metadata": {
    "collapsed": true
   },
   "outputs": [],
   "source": []
  },
  {
   "cell_type": "code",
   "execution_count": null,
   "metadata": {
    "collapsed": true
   },
   "outputs": [],
   "source": []
  },
  {
   "cell_type": "code",
   "execution_count": null,
   "metadata": {
    "collapsed": true
   },
   "outputs": [],
   "source": []
  },
  {
   "cell_type": "code",
   "execution_count": null,
   "metadata": {
    "collapsed": true
   },
   "outputs": [],
   "source": []
  },
  {
   "cell_type": "code",
   "execution_count": null,
   "metadata": {
    "collapsed": true
   },
   "outputs": [],
   "source": []
  },
  {
   "cell_type": "code",
   "execution_count": null,
   "metadata": {
    "collapsed": true
   },
   "outputs": [],
   "source": []
  },
  {
   "cell_type": "code",
   "execution_count": null,
   "metadata": {
    "collapsed": true
   },
   "outputs": [],
   "source": []
  },
  {
   "cell_type": "code",
   "execution_count": null,
   "metadata": {
    "collapsed": true
   },
   "outputs": [],
   "source": []
  },
  {
   "cell_type": "code",
   "execution_count": null,
   "metadata": {
    "collapsed": true
   },
   "outputs": [],
   "source": []
  },
  {
   "cell_type": "code",
   "execution_count": null,
   "metadata": {
    "collapsed": true
   },
   "outputs": [],
   "source": []
  },
  {
   "cell_type": "code",
   "execution_count": null,
   "metadata": {
    "collapsed": true
   },
   "outputs": [],
   "source": []
  },
  {
   "cell_type": "code",
   "execution_count": null,
   "metadata": {
    "collapsed": true
   },
   "outputs": [],
   "source": []
  },
  {
   "cell_type": "code",
   "execution_count": null,
   "metadata": {
    "collapsed": true
   },
   "outputs": [],
   "source": []
  },
  {
   "cell_type": "code",
   "execution_count": null,
   "metadata": {
    "collapsed": true
   },
   "outputs": [],
   "source": []
  },
  {
   "cell_type": "code",
   "execution_count": null,
   "metadata": {
    "collapsed": true
   },
   "outputs": [],
   "source": []
  },
  {
   "cell_type": "code",
   "execution_count": null,
   "metadata": {
    "collapsed": true
   },
   "outputs": [],
   "source": []
  },
  {
   "cell_type": "code",
   "execution_count": null,
   "metadata": {
    "collapsed": true
   },
   "outputs": [],
   "source": []
  },
  {
   "cell_type": "code",
   "execution_count": null,
   "metadata": {
    "collapsed": true
   },
   "outputs": [],
   "source": []
  },
  {
   "cell_type": "code",
   "execution_count": null,
   "metadata": {
    "collapsed": true
   },
   "outputs": [],
   "source": []
  },
  {
   "cell_type": "code",
   "execution_count": null,
   "metadata": {
    "collapsed": true
   },
   "outputs": [],
   "source": []
  },
  {
   "cell_type": "code",
   "execution_count": null,
   "metadata": {
    "collapsed": true
   },
   "outputs": [],
   "source": []
  },
  {
   "cell_type": "code",
   "execution_count": null,
   "metadata": {
    "collapsed": true
   },
   "outputs": [],
   "source": []
  },
  {
   "cell_type": "code",
   "execution_count": null,
   "metadata": {
    "collapsed": true
   },
   "outputs": [],
   "source": []
  },
  {
   "cell_type": "code",
   "execution_count": null,
   "metadata": {
    "collapsed": true
   },
   "outputs": [],
   "source": []
  },
  {
   "cell_type": "code",
   "execution_count": null,
   "metadata": {
    "collapsed": true
   },
   "outputs": [],
   "source": []
  },
  {
   "cell_type": "code",
   "execution_count": null,
   "metadata": {
    "collapsed": true
   },
   "outputs": [],
   "source": []
  },
  {
   "cell_type": "code",
   "execution_count": null,
   "metadata": {
    "collapsed": true
   },
   "outputs": [],
   "source": []
  },
  {
   "cell_type": "code",
   "execution_count": null,
   "metadata": {
    "collapsed": true
   },
   "outputs": [],
   "source": []
  },
  {
   "cell_type": "code",
   "execution_count": null,
   "metadata": {
    "collapsed": true
   },
   "outputs": [],
   "source": []
  },
  {
   "cell_type": "markdown",
   "metadata": {},
   "source": []
  },
  {
   "cell_type": "code",
   "execution_count": null,
   "metadata": {
    "collapsed": true
   },
   "outputs": [],
   "source": [
    "\n"
   ]
  },
  {
   "cell_type": "code",
   "execution_count": null,
   "metadata": {
    "collapsed": true
   },
   "outputs": [],
   "source": []
  },
  {
   "cell_type": "code",
   "execution_count": null,
   "metadata": {
    "collapsed": true
   },
   "outputs": [],
   "source": []
  },
  {
   "cell_type": "code",
   "execution_count": null,
   "metadata": {
    "collapsed": true
   },
   "outputs": [],
   "source": []
  },
  {
   "cell_type": "code",
   "execution_count": null,
   "metadata": {
    "collapsed": true
   },
   "outputs": [],
   "source": [
    "\n"
   ]
  },
  {
   "cell_type": "code",
   "execution_count": null,
   "metadata": {
    "collapsed": true
   },
   "outputs": [],
   "source": []
  },
  {
   "cell_type": "code",
   "execution_count": null,
   "metadata": {
    "collapsed": true
   },
   "outputs": [],
   "source": [
    "\n"
   ]
  },
  {
   "cell_type": "code",
   "execution_count": null,
   "metadata": {
    "collapsed": true
   },
   "outputs": [],
   "source": []
  },
  {
   "cell_type": "code",
   "execution_count": null,
   "metadata": {
    "collapsed": true
   },
   "outputs": [],
   "source": []
  },
  {
   "cell_type": "code",
   "execution_count": null,
   "metadata": {
    "collapsed": true
   },
   "outputs": [],
   "source": []
  },
  {
   "cell_type": "code",
   "execution_count": null,
   "metadata": {
    "collapsed": true
   },
   "outputs": [],
   "source": []
  },
  {
   "cell_type": "code",
   "execution_count": null,
   "metadata": {
    "collapsed": true
   },
   "outputs": [],
   "source": []
  },
  {
   "cell_type": "code",
   "execution_count": null,
   "metadata": {
    "collapsed": true
   },
   "outputs": [],
   "source": []
  },
  {
   "cell_type": "code",
   "execution_count": null,
   "metadata": {
    "collapsed": true
   },
   "outputs": [],
   "source": []
  },
  {
   "cell_type": "code",
   "execution_count": null,
   "metadata": {
    "collapsed": true
   },
   "outputs": [],
   "source": []
  },
  {
   "cell_type": "code",
   "execution_count": null,
   "metadata": {
    "collapsed": true
   },
   "outputs": [],
   "source": []
  },
  {
   "cell_type": "code",
   "execution_count": null,
   "metadata": {
    "collapsed": true
   },
   "outputs": [],
   "source": []
  },
  {
   "cell_type": "code",
   "execution_count": null,
   "metadata": {
    "collapsed": true
   },
   "outputs": [],
   "source": []
  },
  {
   "cell_type": "code",
   "execution_count": null,
   "metadata": {
    "collapsed": true
   },
   "outputs": [],
   "source": []
  },
  {
   "cell_type": "code",
   "execution_count": null,
   "metadata": {
    "collapsed": true
   },
   "outputs": [],
   "source": []
  },
  {
   "cell_type": "code",
   "execution_count": null,
   "metadata": {
    "collapsed": true
   },
   "outputs": [],
   "source": []
  },
  {
   "cell_type": "code",
   "execution_count": null,
   "metadata": {
    "collapsed": true
   },
   "outputs": [],
   "source": []
  },
  {
   "cell_type": "code",
   "execution_count": null,
   "metadata": {
    "collapsed": true
   },
   "outputs": [],
   "source": []
  },
  {
   "cell_type": "code",
   "execution_count": null,
   "metadata": {
    "collapsed": true
   },
   "outputs": [],
   "source": []
  },
  {
   "cell_type": "code",
   "execution_count": null,
   "metadata": {
    "collapsed": true
   },
   "outputs": [],
   "source": []
  },
  {
   "cell_type": "markdown",
   "metadata": {},
   "source": []
  },
  {
   "cell_type": "code",
   "execution_count": null,
   "metadata": {
    "collapsed": true
   },
   "outputs": [],
   "source": []
  },
  {
   "cell_type": "code",
   "execution_count": null,
   "metadata": {
    "collapsed": true
   },
   "outputs": [],
   "source": []
  },
  {
   "cell_type": "code",
   "execution_count": null,
   "metadata": {
    "collapsed": true
   },
   "outputs": [],
   "source": []
  },
  {
   "cell_type": "code",
   "execution_count": null,
   "metadata": {
    "collapsed": true
   },
   "outputs": [],
   "source": []
  },
  {
   "cell_type": "code",
   "execution_count": null,
   "metadata": {
    "collapsed": true
   },
   "outputs": [],
   "source": []
  },
  {
   "cell_type": "code",
   "execution_count": null,
   "metadata": {
    "collapsed": true
   },
   "outputs": [],
   "source": []
  },
  {
   "cell_type": "code",
   "execution_count": null,
   "metadata": {
    "collapsed": true
   },
   "outputs": [],
   "source": []
  },
  {
   "cell_type": "code",
   "execution_count": null,
   "metadata": {
    "collapsed": true
   },
   "outputs": [],
   "source": []
  },
  {
   "cell_type": "code",
   "execution_count": null,
   "metadata": {
    "collapsed": true
   },
   "outputs": [],
   "source": []
  },
  {
   "cell_type": "code",
   "execution_count": null,
   "metadata": {
    "collapsed": true
   },
   "outputs": [],
   "source": []
  },
  {
   "cell_type": "code",
   "execution_count": null,
   "metadata": {
    "collapsed": true
   },
   "outputs": [],
   "source": []
  },
  {
   "cell_type": "code",
   "execution_count": null,
   "metadata": {
    "collapsed": true
   },
   "outputs": [],
   "source": []
  },
  {
   "cell_type": "code",
   "execution_count": null,
   "metadata": {
    "collapsed": true
   },
   "outputs": [],
   "source": []
  },
  {
   "cell_type": "code",
   "execution_count": null,
   "metadata": {
    "collapsed": true
   },
   "outputs": [],
   "source": []
  },
  {
   "cell_type": "code",
   "execution_count": null,
   "metadata": {
    "collapsed": true
   },
   "outputs": [],
   "source": []
  },
  {
   "cell_type": "code",
   "execution_count": null,
   "metadata": {
    "collapsed": true
   },
   "outputs": [],
   "source": []
  },
  {
   "cell_type": "code",
   "execution_count": null,
   "metadata": {
    "collapsed": true
   },
   "outputs": [],
   "source": []
  },
  {
   "cell_type": "code",
   "execution_count": null,
   "metadata": {
    "collapsed": true
   },
   "outputs": [],
   "source": [
    "\n"
   ]
  },
  {
   "cell_type": "code",
   "execution_count": null,
   "metadata": {
    "collapsed": true
   },
   "outputs": [],
   "source": []
  },
  {
   "cell_type": "code",
   "execution_count": null,
   "metadata": {
    "collapsed": true
   },
   "outputs": [],
   "source": []
  },
  {
   "cell_type": "code",
   "execution_count": null,
   "metadata": {
    "collapsed": true
   },
   "outputs": [],
   "source": []
  },
  {
   "cell_type": "code",
   "execution_count": null,
   "metadata": {
    "collapsed": true
   },
   "outputs": [],
   "source": []
  },
  {
   "cell_type": "code",
   "execution_count": null,
   "metadata": {
    "collapsed": true
   },
   "outputs": [],
   "source": []
  },
  {
   "cell_type": "code",
   "execution_count": null,
   "metadata": {
    "collapsed": true
   },
   "outputs": [],
   "source": []
  },
  {
   "cell_type": "code",
   "execution_count": null,
   "metadata": {
    "collapsed": true
   },
   "outputs": [],
   "source": []
  },
  {
   "cell_type": "code",
   "execution_count": null,
   "metadata": {
    "collapsed": true
   },
   "outputs": [],
   "source": []
  },
  {
   "cell_type": "code",
   "execution_count": null,
   "metadata": {
    "collapsed": true
   },
   "outputs": [],
   "source": []
  },
  {
   "cell_type": "code",
   "execution_count": null,
   "metadata": {
    "collapsed": true
   },
   "outputs": [],
   "source": []
  },
  {
   "cell_type": "code",
   "execution_count": null,
   "metadata": {
    "collapsed": true
   },
   "outputs": [],
   "source": []
  },
  {
   "cell_type": "code",
   "execution_count": null,
   "metadata": {
    "collapsed": true
   },
   "outputs": [],
   "source": []
  },
  {
   "cell_type": "code",
   "execution_count": null,
   "metadata": {
    "collapsed": true
   },
   "outputs": [],
   "source": []
  },
  {
   "cell_type": "code",
   "execution_count": null,
   "metadata": {
    "collapsed": true
   },
   "outputs": [],
   "source": []
  },
  {
   "cell_type": "code",
   "execution_count": null,
   "metadata": {
    "collapsed": true
   },
   "outputs": [],
   "source": []
  },
  {
   "cell_type": "code",
   "execution_count": null,
   "metadata": {
    "collapsed": true
   },
   "outputs": [],
   "source": []
  },
  {
   "cell_type": "code",
   "execution_count": null,
   "metadata": {
    "collapsed": true
   },
   "outputs": [],
   "source": []
  },
  {
   "cell_type": "code",
   "execution_count": null,
   "metadata": {
    "collapsed": true
   },
   "outputs": [],
   "source": []
  },
  {
   "cell_type": "code",
   "execution_count": null,
   "metadata": {
    "collapsed": true
   },
   "outputs": [],
   "source": []
  },
  {
   "cell_type": "code",
   "execution_count": null,
   "metadata": {
    "collapsed": true
   },
   "outputs": [],
   "source": []
  },
  {
   "cell_type": "code",
   "execution_count": null,
   "metadata": {
    "collapsed": true
   },
   "outputs": [],
   "source": []
  },
  {
   "cell_type": "code",
   "execution_count": null,
   "metadata": {
    "collapsed": true
   },
   "outputs": [],
   "source": []
  },
  {
   "cell_type": "code",
   "execution_count": null,
   "metadata": {
    "collapsed": true
   },
   "outputs": [],
   "source": []
  },
  {
   "cell_type": "code",
   "execution_count": null,
   "metadata": {
    "collapsed": true
   },
   "outputs": [],
   "source": []
  },
  {
   "cell_type": "code",
   "execution_count": null,
   "metadata": {
    "collapsed": true
   },
   "outputs": [],
   "source": []
  },
  {
   "cell_type": "code",
   "execution_count": null,
   "metadata": {
    "collapsed": true
   },
   "outputs": [],
   "source": []
  }
 ],
 "metadata": {
  "kernelspec": {
   "display_name": "Python 3",
   "language": "python",
   "name": "python3"
  },
  "language_info": {
   "codemirror_mode": {
    "name": "ipython",
    "version": 3
   },
   "file_extension": ".py",
   "mimetype": "text/x-python",
   "name": "python",
   "nbconvert_exporter": "python",
   "pygments_lexer": "ipython3",
   "version": "3.6.3"
  }
 },
 "nbformat": 4,
 "nbformat_minor": 2
}
